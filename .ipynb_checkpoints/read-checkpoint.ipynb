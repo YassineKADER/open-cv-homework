{
 "cells": [
  {
   "cell_type": "markdown",
   "id": "fd268299",
   "metadata": {},
   "source": [
    "# Read images and videos in open-cv"
   ]
  },
  {
   "cell_type": "code",
   "execution_count": 2,
   "id": "3d49c6c7",
   "metadata": {},
   "outputs": [],
   "source": [
    "import cv2 as cv"
   ]
  },
  {
   "cell_type": "code",
   "execution_count": null,
   "id": "a9476cf0",
   "metadata": {},
   "outputs": [],
   "source": [
    "#img = cv.imread('photos/cat.jpg');#read the image\n",
    "cv.imshow('Title',img);#show the image\n",
    "cv.waitKey(0);#wait until a key pressed"
   ]
  },
  {
   "cell_type": "code",
   "execution_count": null,
   "id": "ae250c48",
   "metadata": {},
   "outputs": [],
   "source": []
  }
 ],
 "metadata": {
  "kernelspec": {
   "display_name": "Python 3 (ipykernel)",
   "language": "python",
   "name": "python3"
  },
  "language_info": {
   "codemirror_mode": {
    "name": "ipython",
    "version": 3
   },
   "file_extension": ".py",
   "mimetype": "text/x-python",
   "name": "python",
   "nbconvert_exporter": "python",
   "pygments_lexer": "ipython3",
   "version": "3.9.12"
  }
 },
 "nbformat": 4,
 "nbformat_minor": 5
}
